{
 "cells": [
  {
   "cell_type": "code",
   "execution_count": 1,
   "id": "bc8ad4af-40f0-4572-a395-4b3275ef34da",
   "metadata": {},
   "outputs": [],
   "source": [
    "import pandas as pd"
   ]
  },
  {
   "cell_type": "code",
   "execution_count": 4,
   "id": "51492db4-3415-4500-bf30-71f4687f8364",
   "metadata": {},
   "outputs": [
    {
     "ename": "FileNotFoundError",
"evalue": "[Errno 2] No such file or directory: 'Datasets/Crops_data.csv'",

     "output_type": "error",
     "traceback": [
      "\u001b[1;31m---------------------------------------------------------------------------\u001b[0m",
      "\u001b[1;31mFileNotFoundError\u001b[0m                         Traceback (most recent call last)",
"evalue": "[Errno 2] No such file or directory: 'Datasets/Crops_data.csv'"

     ]
    }
   ],
   "source": [
    "df = pd.read_csv(r'C:\\Users\\devin\\AI-agriculture-yield-prediction\\Datasets\\Crops_data.csv')"
   ]
  },
  {
   "cell_type": "code",
   "execution_count": null,
   "id": "ecd6e7e7-67d5-46b6-a346-8f06e22f835a",
   "metadata": {},
   "outputs": [],
   "source": [
    "df_rice = df[['Year','State Name','Dist Name','RICE AREA (1000 ha)','RICE PRODUCTION (1000 tons)','RICE YIELD (Kg per ha)']].copy()\n",
    "df_rice.head(3)"
   ]
  },
  {
   "cell_type": "code",
   "execution_count": null,
   "id": "e8516063-ad09-4ae4-85b5-2b99fc445ab9",
   "metadata": {},
   "outputs": [],
   "source": [
    "df_rice.isnull().sum()"
   ]
  },
  {
   "cell_type": "code",
   "execution_count": null,
   "id": "1faab2fb-5c7d-46af-94d5-edc18daa72ff",
   "metadata": {},
   "outputs": [],
   "source": [
    "df_rice['State Name'].unique()"
   ]
  },
  {
   "cell_type": "code",
   "execution_count": null,
   "id": "942ab2ac-f960-40b2-84be-62163fa4162b",
   "metadata": {},
   "outputs": [],
   "source": [
    "from sklearn.preprocessing import LabelEncoder\n",
    "le =  LabelEncoder()\n",
    "df_rice['State_en'] = le.fit_transform(df_rice['State Name'])\n",
    "df_rice.head(3)"
   ]
  },
  {
   "cell_type": "code",
   "execution_count": null,
   "id": "4c44e7dd-a8b8-4440-b7e3-30027dbbf9f7",
   "metadata": {},
   "outputs": [],
   "source": [
    "df_rice.to_csv(r'C:\\Users\\devin\\AI-agriculture-yield-prediction\\Datasets\\rice_data.csv')"
   ]
  },
  {
   "cell_type": "code",
   "execution_count": null,
   "id": "9cd26ded-1cb6-4388-b7b3-fd2849761373",
   "metadata": {},
   "outputs": [],
   "source": []
  }
 ],
 "metadata": {
  "kernelspec": {
   "display_name": "Python 3 (ipykernel)",
   "language": "python",
   "name": "python3"
  },
  "language_info": {
   "codemirror_mode": {
    "name": "ipython",
    "version": 3
   },
   "file_extension": ".py",
   "mimetype": "text/x-python",
   "name": "python",
   "nbconvert_exporter": "python",
   "pygments_lexer": "ipython3",
"version": "3.12.7"

  }
 },
 "nbformat": 4,
 "nbformat_minor": 5
}
