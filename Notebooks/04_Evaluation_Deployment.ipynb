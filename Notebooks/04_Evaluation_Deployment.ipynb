{
 "cells": [
  {
   "cell_type": "code",
   "execution_count": 1,
   "metadata": {},
   "outputs": [],
   "source": [
    "import pandas as pd\n",
    "import matplotlib.pyplot as plt\n",
    "import seaborn as sns\n",
    "import joblib\n",
    "from sklearn.metrics import r2_score, mean_squared_error, mean_absolute_error\n",
    "import warnings\n",
    "warnings.filterwarnings('ignore')"
   ]
  },
  {
   "cell_type": "code",
   "execution_count": 2,
   "metadata": {},
   "outputs": [
    {
     "ename": "FileNotFoundError",
     "evalue": "[Errno 2] No such file or directory: 'C:\\\\Users\\\\devin\\\\AI-agriculture-yield-prediction\\\\Models\\\\rf_model.pkl'",
     "output_type": "error",
     "traceback": [
      "FileNotFoundError: [Errno 2] No such file or directory: 'C:\\\\Users\\\\devin\\\\AI-agriculture-yield-prediction\\\\Models\\\\rf_model.pkl'"
     ]
    }
   ],
   "source": [
    "rf = joblib.load('../Models/rf_model.pkl')\n",
    "scaler = joblib.load('../Models/scaler.pkl')"
   ]
  },
  {
   "cell_type": "code",
   "execution_count": null,
   "metadata": {},
   "outputs": [],
   "source": [
    "df = pd.read_csv('../Models/test_predictions.csv')"
   ]
  },
  {
   "cell_type": "code",
   "execution_count": null,
   "metadata": {},
   "outputs": [],
   "source": [
    "r2 = r2_score(df['Actual'], df['Predicted'])\n",
    "mae = mean_absolute_error(df['Actual'], df['Predicted'])\n",
    "rmse = mean_squared_error(df['Actual'], df['Predicted'])\n",
    "print(r2*100)\n",
    "print(mae)\n",
    "print(rmse)"
   ]
  },
  {
   "cell_type": "code",
   "execution_count": null,
   "metadata": {
    "display_name": "Python 3 (ipykernel)"
   },
   "outputs": [],
   "source": [
    "import matplotlib.pyplot as plt\n",
    "import seaborn as sns\n",
    "plt.figure(figsize=(6,5))\n",
    "sns.scatterplot(x=df['Actual'], y=df['Predicted'])\n",
    "plt.xlabel(\"Actual Yield (kg/ha)\")\n",
    "plt.ylabel(\"Predicted Yield (kg/ha)\")\n",
    "plt.title(\"Actual vs Predicted Rice Yield\")\n",
    "plt.savefig('../Plots/actual_vs_predicted.png')\n",
    "plt.grid(True)\n",
    "plt.show()"
   ]
  },
  {
   "cell_type": "code",
   "execution_count": null,
   "metadata": {},
   "outputs": [],
   "source": [
    "residuals = df['Actual'] - df['Predicted']\n",
    "sns.histplot(residuals, kde=True)\n",
    "plt.title(\"Residuals Distribution\")\n",
    "plt.xlabel(\"Prediction Error\")\n",
    "plt.savefig('../Plots/Prediction_error.png')\n",
    "plt.show()"
   ]
  },
  {
   "cell_type": "markdown",
   "metadata": {},
   "source": [
    "**ERROR ANALYSIS**"
   ]
  },
  {
   "cell_type": "markdown",
   "metadata": {},
   "source": [
    "*To Identify patterns in misclassified/mispredicted rows*"
   ]
  },
  {
   "cell_type": "code",
   "execution_count": 7,
   "metadata": {},
   "outputs": [],
   "source": [
    "df['Residual'] = df['Actual']-df['Predicted']\n",
    "df['Abs_Error']= df['Residual'].abs()"
   ]
  },
  {
   "cell_type": "code",
   "execution_count": 8,
   "metadata": {},
   "outputs": [],
   "source": [
    "mispredicted_rows = df.sort_values(by='Abs_Error', ascending =False)\n",
    "display(mispredicted_rows)"
   ]
  },
  {
   "cell_type": "code",
   "execution_count": 9,
   "metadata": {},
   "outputs": [],
   "source": [
    "df1= pd.read_csv('../Datasets/rice_data_outlier_removed.csv')\n",
    "df1.head()"
   ]
  },
  {
   "cell_type": "code",
   "execution_count": 10,
   "metadata": {},
   "outputs": [],
   "source": [
    "m_index= mispredicted_rows.index\n",
    "error_df= df1.loc[m_index]\n",
    "error_df['Actual'] = mispredicted_rows['Actual']\n",
    "error_df['Predicted'] = mispredicted_rows['Predicted']\n",
    "error_df['Abs_Error'] = mispredicted_rows['Abs_Error']\n",
    "error_df.head()"
   ]
  },
  {
   "cell_type": "code",
   "execution_count": 11,
   "metadata": {},
   "outputs": [],
   "source": [
    "error_df.shape"
   ]
  },
  {
   "cell_type": "code",
   "execution_count": 12,
   "metadata": {},
   "outputs": [],
   "source": [
    "state_error = error_df.groupby(['State Name'])['Abs_Error'].mean().sort_values(ascending=False)\n",
    "print(\"Avg Absolute error per state\")\n",
    "print(state_error.head())\n",
    "year_error = error_df.groupby(['Year'])['Abs_Error'].mean().sort_values(ascending=False)\n",
    "print(\"Evg Absolute Error per year\")\n",
    "print(year_error.head())"
   ]
  },
  {
   "cell_type": "code",
   "execution_count": 13,
   "metadata": {},
   "outputs": [],
   "source": [
    "cols =  error_df[['Year','State Name' , 'RICE AREA (1000 ha)','RICE PRODUCTION (1000 tons)']]\n",
    "for col in cols:\n",
    "    plt.figure(figsize=(8,5))\n",
    "    if error_df[col].dtype == 'object':\n",
    "        sns.boxplot(x=col , y='Abs_Error' , data=error_df)\n",
    "        plt.xticks(rotation= 90)\n",
    "        plt.title(f'Error Distribution by {col}')\n",
    "    else:\n",
    "        sns.scatterplot(x=col , y='Abs_Error', data = error_df)\n",
    "        plt.xticks(rotation=90)\n",
    "        plt.title(f'Error Distribution by {col}')\n",
    "plt.tight_layout()\n",
    "plt.show()"
   ]
  },
  {
   "cell_type": "code",
   "execution_count": 14,
   "metadata": {},
   "outputs": [],
   "source": [
    "state_error = error_df.groupby('State Name')['Abs_Error'].mean().sort_values(ascending=False)\n",
    "year_error = error_df.groupby('Year')['Abs_Error'].mean().sort_values(ascending=False)\n",
    "print(\"Top 10 States by prediction error:\")\n",
    "print(state_error.head(10))\n",
    "print(\"\\nError by Year:\")\n",
    "print(year_error)"
   ]
  },
  {
   "cell_type": "code",
   "execution_count": 15,
   "metadata": {},
   "outputs": [],
   "source": [
    "plt.figure(figsize=(8,6))\n",
    "sns.scatterplot(x='Actual', y='Predicted', data=mispredicted_rows, alpha=0.6)\n",
    "plt.plot([mispredicted_rows['Actual'].min(), mispredicted_rows['Actual'].max()],\n",
    "         [mispredicted_rows['Actual'].min(), mispredicted_rows['Actual'].max()],\n",
    "         color='red', linestyle='--')  # ideal predictions line\n",
    "plt.title(\"Actual vs Predicted\")\n",
    "plt.xlabel(\"Actual\")\n",
    "plt.ylabel(\"Predicted\")\n",
    "plt.show()"
   ]
  },
  {
   "cell_type": "code",
   "execution_count": null,
   "metadata": {},
   "outputs": [],
   "source": []
  }
 ],
 "metadata": {
  "kernelspec": {
   "display_name": "Python (notebook-env)",
   "language": "python",
   "name": "notebook-env"
  },
  "language_info": {
   "codemirror_mode": {
    "name": "ipython",
    "version": 3
   },
   "file_extension": ".py",
   "mimetype": "text/x-python",
   "name": "python",
   "nbconvert_exporter": "python",
   "pygments_lexer": "ipython3",
   "version": "3.13.5"
  }
 },
 "nbformat": 4,
 "nbformat_minor": 5
}
